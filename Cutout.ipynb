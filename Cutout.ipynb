{
  "nbformat": 4,
  "nbformat_minor": 0,
  "metadata": {
    "colab": {
      "provenance": []
    },
    "kernelspec": {
      "name": "python3",
      "display_name": "Python 3"
    },
    "language_info": {
      "name": "python"
    }
  },
  "cells": [
    {
      "cell_type": "code",
      "execution_count": null,
      "metadata": {
        "colab": {
          "base_uri": "https://localhost:8080/"
        },
        "id": "RUMyVGTwWScs",
        "outputId": "15d790de-e997-4d4c-9199-6210073deaf3"
      },
      "outputs": [
        {
          "output_type": "execute_result",
          "data": {
            "text/plain": [
              "['cutouts/cutout_1.jpg',\n",
              " 'cutouts/cutout_2.jpg',\n",
              " 'cutouts/cutout_3.jpg',\n",
              " 'cutouts/cutout_4.jpg',\n",
              " 'cutouts/cutout_5.jpg',\n",
              " 'cutouts/cutout_6.jpg',\n",
              " 'cutouts/cutout_7.jpg',\n",
              " 'cutouts/cutout_8.jpg',\n",
              " 'cutouts/cutout_9.jpg',\n",
              " 'cutouts/cutout_10.jpg',\n",
              " 'cutouts/cutout_11.jpg',\n",
              " 'cutouts/cutout_12.jpg',\n",
              " 'cutouts/cutout_13.jpg',\n",
              " 'cutouts/cutout_14.jpg',\n",
              " 'cutouts/cutout_15.jpg',\n",
              " 'cutouts/cutout_16.jpg',\n",
              " 'cutouts/cutout_17.jpg',\n",
              " 'cutouts/cutout_18.jpg']"
            ]
          },
          "metadata": {},
          "execution_count": 2
        }
      ],
      "source": [
        "import cv2\n",
        "import os\n",
        "import numpy as np\n",
        "\n",
        "# Load the image\n",
        "image_path = \"/content/assignment-2.jpg\"\n",
        "image = cv2.imread(image_path)\n",
        "\n",
        "# Create the output folder\n",
        "output_folder = \"cutouts\"\n",
        "os.makedirs(output_folder, exist_ok=True)\n",
        "\n",
        "# Image dimensions\n",
        "img_height, img_width, _ = image.shape\n",
        "\n",
        "# Define the grid dimensions (3 rows, 6 columns)\n",
        "rows, cols = 6, 3\n",
        "cutout_height = img_height // rows\n",
        "cutout_width = img_width // cols\n",
        "\n",
        "# Extract and save the cutouts\n",
        "cutout_paths = []\n",
        "for row in range(rows):\n",
        "    for col in range(cols):\n",
        "        x_start = col * cutout_width\n",
        "        y_start = row * cutout_height\n",
        "        x_end = x_start + cutout_width\n",
        "        y_end = y_start + cutout_height\n",
        "\n",
        "        cutout = image[y_start:y_end, x_start:x_end]\n",
        "\n",
        "        cutout_filename = f\"{output_folder}/cutout_{row * cols + col + 1}.jpg\"\n",
        "        cv2.imwrite(cutout_filename, cutout)\n",
        "        cutout_paths.append(cutout_filename)\n",
        "\n",
        "cutout_paths\n"
      ]
    },
    {
      "cell_type": "code",
      "source": [
        "import cv2\n",
        "import os\n",
        "import numpy as np\n",
        "\n",
        "# Load the image\n",
        "image_path = \"/content/assignment-2.jpg\"  # Update this path as needed\n",
        "image = cv2.imread(image_path)\n",
        "\n",
        "if image is None:\n",
        "    raise FileNotFoundError(f\"Image not found at path: {image_path}\")\n",
        "\n",
        "# Get image dimensions\n",
        "img_height, img_width, _ = image.shape\n",
        "print(f\"Loaded image of size: {img_width} x {img_height}\")\n",
        "\n",
        "# Suggest default grid based on target cutout size (e.g., 200x200 pixels)\n",
        "target_cutout_size = 200\n",
        "default_rows = max(1, img_height // target_cutout_size)\n",
        "default_cols = max(1, img_width // target_cutout_size)\n",
        "\n",
        "# Allow user to specify or use defaults\n",
        "rows = int(input(f\"Enter number of rows (default {default_rows}): \") or default_rows)\n",
        "cols = int(input(f\"Enter number of columns (default {default_cols}): \") or default_cols)\n",
        "\n",
        "# Calculate cutout size\n",
        "cutout_height = img_height // rows\n",
        "cutout_width = img_width // cols\n",
        "\n",
        "# Create the output folder\n",
        "output_folder = \"cutouts\"\n",
        "os.makedirs(output_folder, exist_ok=True)\n",
        "\n",
        "# Extract and save the cutouts\n",
        "cutout_paths = []\n",
        "for row in range(rows):\n",
        "    for col in range(cols):\n",
        "        x_start = col * cutout_width\n",
        "        y_start = row * cutout_height\n",
        "        x_end = x_start + cutout_width\n",
        "        y_end = y_start + cutout_height\n",
        "\n",
        "        # Handle edge cases for last row/column to include any leftover pixels\n",
        "        if col == cols - 1:\n",
        "            x_end = img_width\n",
        "        if row == rows - 1:\n",
        "            y_end = img_height\n",
        "\n",
        "        cutout = image[y_start:y_end, x_start:x_end]\n",
        "\n",
        "        cutout_filename = f\"{output_folder}/cutout_{row * cols + col + 1}.jpg\"\n",
        "        cv2.imwrite(cutout_filename, cutout)\n",
        "        cutout_paths.append(cutout_filename)\n",
        "\n",
        "print(f\"✅ Saved {len(cutout_paths)} cutouts to '{output_folder}/'\")\n"
      ],
      "metadata": {
        "colab": {
          "base_uri": "https://localhost:8080/"
        },
        "id": "1ajMhMlX1Ta1",
        "outputId": "bf235a16-10bc-47a6-aa74-dfcadf403245"
      },
      "execution_count": 1,
      "outputs": [
        {
          "output_type": "stream",
          "name": "stdout",
          "text": [
            "Loaded image of size: 700 x 990\n",
            "Enter number of rows (default 4): 6\n",
            "Enter number of columns (default 3): 3\n",
            "✅ Saved 18 cutouts to 'cutouts/'\n"
          ]
        }
      ]
    }
  ]
}